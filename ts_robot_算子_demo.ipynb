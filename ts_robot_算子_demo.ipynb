{
 "cells": [
  {
   "cell_type": "code",
   "execution_count": 1,
   "metadata": {},
   "outputs": [
    {
     "name": "stderr",
     "output_type": "stream",
     "text": [
      "/Users/yaosting/anaconda3/lib/python3.7/site-packages/requests/__init__.py:91: RequestsDependencyWarning: urllib3 (1.26.2) or chardet (3.0.4) doesn't match a supported version!\n",
      "  RequestsDependencyWarning)\n"
     ]
    },
    {
     "name": "stdout",
     "output_type": "stream",
     "text": [
      "   id  time  F_x  F_y  F_z  T_x  T_y  T_z\n",
      "0   1     0   -1   -1   63   -3   -1    0\n",
      "1   1     1    0    0   62   -3   -1    0\n",
      "2   1     2   -1   -1   61   -3    0    0\n",
      "3   1     3   -1   -1   63   -2   -1    0\n",
      "4   1     4   -1   -1   63   -3   -1    0\n",
      "1    True\n",
      "2    True\n",
      "3    True\n",
      "4    True\n",
      "5    True\n",
      "dtype: bool\n"
     ]
    },
    {
     "name": "stderr",
     "output_type": "stream",
     "text": [
      "Feature Extraction: 100%|██████████| 20/20 [00:05<00:00,  3.81it/s]\n"
     ]
    },
    {
     "name": "stdout",
     "output_type": "stream",
     "text": [
      "   F_x__variance_larger_than_standard_deviation  F_x__has_duplicate_max  \\\n",
      "1                                           0.0                     0.0   \n",
      "2                                           0.0                     1.0   \n",
      "3                                           0.0                     0.0   \n",
      "4                                           0.0                     1.0   \n",
      "5                                           0.0                     0.0   \n",
      "\n",
      "   F_x__has_duplicate_min  F_x__has_duplicate  F_x__sum_values  \\\n",
      "1                     1.0                 1.0            -14.0   \n",
      "2                     1.0                 1.0            -13.0   \n",
      "3                     1.0                 1.0            -10.0   \n",
      "4                     1.0                 1.0             -6.0   \n",
      "5                     0.0                 1.0             -9.0   \n",
      "\n",
      "   F_x__abs_energy  F_x__mean_abs_change  F_x__mean_change  \\\n",
      "1             14.0              0.142857          0.000000   \n",
      "2             25.0              1.000000          0.000000   \n",
      "3             12.0              0.714286          0.000000   \n",
      "4             16.0              1.214286         -0.071429   \n",
      "5             17.0              0.928571         -0.071429   \n",
      "\n",
      "   F_x__mean_second_derivative_central  F_x__median  ...  \\\n",
      "1                            -0.038462         -1.0  ...   \n",
      "2                            -0.038462         -1.0  ...   \n",
      "3                            -0.038462         -1.0  ...   \n",
      "4                            -0.038462          0.0  ...   \n",
      "5                             0.038462         -1.0  ...   \n",
      "\n",
      "   T_z__fourier_entropy__bins_2  T_z__fourier_entropy__bins_3  \\\n",
      "1                           NaN                           NaN   \n",
      "2                      0.562335                      0.562335   \n",
      "3                      0.661563                      1.039721   \n",
      "4                      0.562335                      0.735622   \n",
      "5                      0.562335                      0.562335   \n",
      "\n",
      "   T_z__fourier_entropy__bins_5  T_z__fourier_entropy__bins_10  \\\n",
      "1                           NaN                            NaN   \n",
      "2                      1.073543                       1.494175   \n",
      "3                      1.386294                       1.732868   \n",
      "4                      1.073543                       1.494175   \n",
      "5                      0.900256                       1.320888   \n",
      "\n",
      "   T_z__fourier_entropy__bins_100  \\\n",
      "1                             NaN   \n",
      "2                        2.079442   \n",
      "3                        2.079442   \n",
      "4                        2.079442   \n",
      "5                        2.079442   \n",
      "\n",
      "   T_z__permutation_entropy__dimension_3__tau_1  \\\n",
      "1                                     -0.000000   \n",
      "2                                      0.937156   \n",
      "3                                      1.265857   \n",
      "4                                      1.156988   \n",
      "5                                      1.156988   \n",
      "\n",
      "   T_z__permutation_entropy__dimension_4__tau_1  \\\n",
      "1                                     -0.000000   \n",
      "2                                      1.234268   \n",
      "3                                      1.704551   \n",
      "4                                      1.907284   \n",
      "5                                      1.863680   \n",
      "\n",
      "   T_z__permutation_entropy__dimension_5__tau_1  \\\n",
      "1                                     -0.000000   \n",
      "2                                      1.540306   \n",
      "3                                      2.019815   \n",
      "4                                      2.397895   \n",
      "5                                      2.271869   \n",
      "\n",
      "   T_z__permutation_entropy__dimension_6__tau_1  \\\n",
      "1                                     -0.000000   \n",
      "2                                      1.748067   \n",
      "3                                      2.163956   \n",
      "4                                      2.302585   \n",
      "5                                      2.302585   \n",
      "\n",
      "   T_z__permutation_entropy__dimension_7__tau_1  \n",
      "1                                     -0.000000  \n",
      "2                                      1.831020  \n",
      "3                                      2.197225  \n",
      "4                                      2.197225  \n",
      "5                                      2.197225  \n",
      "\n",
      "[5 rows x 4674 columns]\n"
     ]
    },
    {
     "name": "stderr",
     "output_type": "stream",
     "text": [
      "/Users/yaosting/anaconda3/lib/python3.7/site-packages/tsfresh/utilities/dataframe_functions.py:172: RuntimeWarning: The columns ['F_x__partial_autocorrelation__lag_7'\n",
      " 'F_x__partial_autocorrelation__lag_8'\n",
      " 'F_x__partial_autocorrelation__lag_9' ...\n",
      " 'T_z__agg_linear_trend__attr_\"stderr\"__chunk_len_50__f_agg_\"min\"'\n",
      " 'T_z__agg_linear_trend__attr_\"stderr\"__chunk_len_50__f_agg_\"mean\"'\n",
      " 'T_z__agg_linear_trend__attr_\"stderr\"__chunk_len_50__f_agg_\"var\"'] did not have any finite values. Filling with zeros.\n",
      "  df.iloc[:, np.where(is_col_non_finite)[0]].columns.values), RuntimeWarning)\n"
     ]
    },
    {
     "name": "stdout",
     "output_type": "stream",
     "text": [
      "   F_x__value_count__value_-1  F_x__abs_energy  \\\n",
      "1                        14.0             14.0   \n",
      "2                         7.0             25.0   \n",
      "3                        11.0             12.0   \n",
      "4                         5.0             16.0   \n",
      "5                         9.0             17.0   \n",
      "\n",
      "   F_x__range_count__max_1__min_-1  F_y__abs_energy  T_y__variance  \\\n",
      "1                             15.0             13.0       0.222222   \n",
      "2                             13.0             76.0       4.222222   \n",
      "3                             14.0             40.0       3.128889   \n",
      "4                             10.0             60.0       7.128889   \n",
      "5                             13.0             46.0       4.160000   \n",
      "\n",
      "   T_y__standard_deviation  F_x__fft_coefficient__attr_\"abs\"__coeff_1  \\\n",
      "1                 0.471405                                   1.000000   \n",
      "2                 2.054805                                   0.624118   \n",
      "3                 1.768867                                   2.203858   \n",
      "4                 2.669998                                   0.844394   \n",
      "5                 2.039608                                   2.730599   \n",
      "\n",
      "   T_y__fft_coefficient__attr_\"abs\"__coeff_1  T_y__abs_energy  \\\n",
      "1                                   1.165352             10.0   \n",
      "2                                   6.020261             90.0   \n",
      "3                                   8.235442            103.0   \n",
      "4                                  12.067855            124.0   \n",
      "5                                   6.445330            180.0   \n",
      "\n",
      "   F_z__standard_deviation  ...  \\\n",
      "1                 1.203698  ...   \n",
      "2                 4.333846  ...   \n",
      "3                 4.616877  ...   \n",
      "4                 3.833188  ...   \n",
      "5                 4.841487  ...   \n",
      "\n",
      "   T_x__change_quantiles__f_agg_\"var\"__isabs_True__qh_0.2__ql_0.0  \\\n",
      "1                                                0.0                \n",
      "2                                                0.0                \n",
      "3                                                0.0                \n",
      "4                                                0.0                \n",
      "5                                                0.0                \n",
      "\n",
      "   F_z__change_quantiles__f_agg_\"mean\"__isabs_True__qh_1.0__ql_0.8  \\\n",
      "1                                                0.0                 \n",
      "2                                                1.0                 \n",
      "3                                                3.0                 \n",
      "4                                                0.0                 \n",
      "5                                                0.0                 \n",
      "\n",
      "   T_x__quantile__q_0.1  F_y__has_duplicate_max  \\\n",
      "1                  -3.0                     1.0   \n",
      "2                  -9.2                     1.0   \n",
      "3                  -6.6                     0.0   \n",
      "4                  -9.0                     0.0   \n",
      "5                  -9.6                     0.0   \n",
      "\n",
      "   F_y__cwt_coefficients__coeff_14__w_5__widths_(2, 5, 10, 20)  \\\n",
      "1                                          -0.751682             \n",
      "2                                           0.057818             \n",
      "3                                           0.912474             \n",
      "4                                          -0.609735             \n",
      "5                                           0.072771             \n",
      "\n",
      "   F_y__cwt_coefficients__coeff_13__w_2__widths_(2, 5, 10, 20)  \\\n",
      "1                                          -0.310265             \n",
      "2                                          -0.202951             \n",
      "3                                           0.539121             \n",
      "4                                          -2.641390             \n",
      "5                                           0.591927             \n",
      "\n",
      "   T_y__quantile__q_0.1  F_z__time_reversal_asymmetry_statistic__lag_1  \\\n",
      "1                  -1.0                                    -596.000000   \n",
      "2                  -3.6                                    -680.384615   \n",
      "3                  -4.0                                    -617.000000   \n",
      "4                  -4.6                                    3426.307692   \n",
      "5                  -5.0                                   -2609.000000   \n",
      "\n",
      "   F_x__quantile__q_0.2  F_y__quantile__q_0.7  \n",
      "1                  -1.0                  -1.0  \n",
      "2                  -1.0                  -1.0  \n",
      "3                  -1.0                   0.0  \n",
      "4                  -1.0                   1.0  \n",
      "5                  -1.0                   0.8  \n",
      "\n",
      "[5 rows x 671 columns]\n"
     ]
    },
    {
     "name": "stderr",
     "output_type": "stream",
     "text": [
      "Feature Extraction: 100%|██████████| 20/20 [00:06<00:00,  2.96it/s]\n"
     ]
    },
    {
     "name": "stdout",
     "output_type": "stream",
     "text": [
      "   F_x__value_count__value_-1  F_x__abs_energy  \\\n",
      "1                        14.0             14.0   \n",
      "2                         7.0             25.0   \n",
      "3                        11.0             12.0   \n",
      "4                         5.0             16.0   \n",
      "5                         9.0             17.0   \n",
      "\n",
      "   F_x__range_count__max_1__min_-1  F_y__abs_energy  T_y__variance  \\\n",
      "1                             15.0             13.0       0.222222   \n",
      "2                             13.0             76.0       4.222222   \n",
      "3                             14.0             40.0       3.128889   \n",
      "4                             10.0             60.0       7.128889   \n",
      "5                             13.0             46.0       4.160000   \n",
      "\n",
      "   T_y__standard_deviation  F_x__fft_coefficient__attr_\"abs\"__coeff_1  \\\n",
      "1                 0.471405                                   1.000000   \n",
      "2                 2.054805                                   0.624118   \n",
      "3                 1.768867                                   2.203858   \n",
      "4                 2.669998                                   0.844394   \n",
      "5                 2.039608                                   2.730599   \n",
      "\n",
      "   T_y__fft_coefficient__attr_\"abs\"__coeff_1  T_y__abs_energy  \\\n",
      "1                                   1.165352             10.0   \n",
      "2                                   6.020261             90.0   \n",
      "3                                   8.235442            103.0   \n",
      "4                                  12.067855            124.0   \n",
      "5                                   6.445330            180.0   \n",
      "\n",
      "   F_z__standard_deviation  ...  \\\n",
      "1                 1.203698  ...   \n",
      "2                 4.333846  ...   \n",
      "3                 4.616877  ...   \n",
      "4                 3.833188  ...   \n",
      "5                 4.841487  ...   \n",
      "\n",
      "   T_x__change_quantiles__f_agg_\"var\"__isabs_True__qh_0.2__ql_0.0  \\\n",
      "1                                                0.0                \n",
      "2                                                0.0                \n",
      "3                                                0.0                \n",
      "4                                                0.0                \n",
      "5                                                0.0                \n",
      "\n",
      "   F_z__change_quantiles__f_agg_\"mean\"__isabs_True__qh_1.0__ql_0.8  \\\n",
      "1                                                0.0                 \n",
      "2                                                1.0                 \n",
      "3                                                3.0                 \n",
      "4                                                0.0                 \n",
      "5                                                0.0                 \n",
      "\n",
      "   T_x__quantile__q_0.1  F_y__has_duplicate_max  \\\n",
      "1                  -3.0                     1.0   \n",
      "2                  -9.2                     1.0   \n",
      "3                  -6.6                     0.0   \n",
      "4                  -9.0                     0.0   \n",
      "5                  -9.6                     0.0   \n",
      "\n",
      "   F_y__cwt_coefficients__coeff_14__w_5__widths_(2, 5, 10, 20)  \\\n",
      "1                                          -0.751682             \n",
      "2                                           0.057818             \n",
      "3                                           0.912474             \n",
      "4                                          -0.609735             \n",
      "5                                           0.072771             \n",
      "\n",
      "   F_y__cwt_coefficients__coeff_13__w_2__widths_(2, 5, 10, 20)  \\\n",
      "1                                          -0.310265             \n",
      "2                                          -0.202951             \n",
      "3                                           0.539121             \n",
      "4                                          -2.641390             \n",
      "5                                           0.591927             \n",
      "\n",
      "   T_y__quantile__q_0.1  F_z__time_reversal_asymmetry_statistic__lag_1  \\\n",
      "1                  -1.0                                    -596.000000   \n",
      "2                  -3.6                                    -680.384615   \n",
      "3                  -4.0                                    -617.000000   \n",
      "4                  -4.6                                    3426.307692   \n",
      "5                  -5.0                                   -2609.000000   \n",
      "\n",
      "   F_x__quantile__q_0.2  F_y__quantile__q_0.7  \n",
      "1                  -1.0                  -1.0  \n",
      "2                  -1.0                  -1.0  \n",
      "3                  -1.0                   0.0  \n",
      "4                  -1.0                   1.0  \n",
      "5                  -1.0                   0.8  \n",
      "\n",
      "[5 rows x 671 columns]\n"
     ]
    }
   ],
   "source": [
    "\n",
    "# 1. 首先加载数据\n",
    "import tsfresh\n",
    "from tsfresh.examples.robot_execution_failures import download_robot_execution_failures, load_robot_execution_failures\n",
    "\n",
    "download_robot_execution_failures()\n",
    "timeseries, y = load_robot_execution_failures()\n",
    "\n",
    "# 2. 看一下数据的形式\n",
    "print(timeseries.head())\n",
    "print(y.head())\n",
    "\n",
    "# 3. 抽取特征\n",
    "from tsfresh import extract_features\n",
    "extracted_features = extract_features(timeseries, column_id='id', column_sort='time')\n",
    "print(extracted_features.head())\n",
    "\n",
    "# 4. 特征过滤\n",
    "# 由上一步操作得到的特征中存在空值(NaN)，这些没有意义的值需要去掉，选择有用的特征进行保留。从结果可以看出，数据的维度减少了很多。\n",
    "from tsfresh import select_features\n",
    "from tsfresh.utilities.dataframe_functions import impute\n",
    "\n",
    "impute(extracted_features)\n",
    "features_filtered = select_features(extracted_features, y)\n",
    "print(features_filtered.head())\n",
    "\n",
    "# 5. 特征抽取与过滤同时进行（一步到位，省去多余计算）\n",
    "from tsfresh import extract_relevant_features\n",
    "\n",
    "features_filtered_direct = extract_relevant_features(timeseries, y, column_id='id', column_sort='time')\n",
    "print(features_filtered_direct.head())"
   ]
  },
  {
   "cell_type": "code",
   "execution_count": 3,
   "metadata": {},
   "outputs": [
    {
     "data": {
      "text/html": [
       "<div>\n",
       "<style scoped>\n",
       "    .dataframe tbody tr th:only-of-type {\n",
       "        vertical-align: middle;\n",
       "    }\n",
       "\n",
       "    .dataframe tbody tr th {\n",
       "        vertical-align: top;\n",
       "    }\n",
       "\n",
       "    .dataframe thead th {\n",
       "        text-align: right;\n",
       "    }\n",
       "</style>\n",
       "<table border=\"1\" class=\"dataframe\">\n",
       "  <thead>\n",
       "    <tr style=\"text-align: right;\">\n",
       "      <th></th>\n",
       "      <th>id</th>\n",
       "      <th>time</th>\n",
       "      <th>F_x</th>\n",
       "      <th>F_y</th>\n",
       "      <th>F_z</th>\n",
       "      <th>T_x</th>\n",
       "      <th>T_y</th>\n",
       "      <th>T_z</th>\n",
       "    </tr>\n",
       "  </thead>\n",
       "  <tbody>\n",
       "    <tr>\n",
       "      <th>0</th>\n",
       "      <td>1</td>\n",
       "      <td>0</td>\n",
       "      <td>-1</td>\n",
       "      <td>-1</td>\n",
       "      <td>63</td>\n",
       "      <td>-3</td>\n",
       "      <td>-1</td>\n",
       "      <td>0</td>\n",
       "    </tr>\n",
       "    <tr>\n",
       "      <th>1</th>\n",
       "      <td>1</td>\n",
       "      <td>1</td>\n",
       "      <td>0</td>\n",
       "      <td>0</td>\n",
       "      <td>62</td>\n",
       "      <td>-3</td>\n",
       "      <td>-1</td>\n",
       "      <td>0</td>\n",
       "    </tr>\n",
       "    <tr>\n",
       "      <th>2</th>\n",
       "      <td>1</td>\n",
       "      <td>2</td>\n",
       "      <td>-1</td>\n",
       "      <td>-1</td>\n",
       "      <td>61</td>\n",
       "      <td>-3</td>\n",
       "      <td>0</td>\n",
       "      <td>0</td>\n",
       "    </tr>\n",
       "    <tr>\n",
       "      <th>3</th>\n",
       "      <td>1</td>\n",
       "      <td>3</td>\n",
       "      <td>-1</td>\n",
       "      <td>-1</td>\n",
       "      <td>63</td>\n",
       "      <td>-2</td>\n",
       "      <td>-1</td>\n",
       "      <td>0</td>\n",
       "    </tr>\n",
       "    <tr>\n",
       "      <th>4</th>\n",
       "      <td>1</td>\n",
       "      <td>4</td>\n",
       "      <td>-1</td>\n",
       "      <td>-1</td>\n",
       "      <td>63</td>\n",
       "      <td>-3</td>\n",
       "      <td>-1</td>\n",
       "      <td>0</td>\n",
       "    </tr>\n",
       "    <tr>\n",
       "      <th>...</th>\n",
       "      <td>...</td>\n",
       "      <td>...</td>\n",
       "      <td>...</td>\n",
       "      <td>...</td>\n",
       "      <td>...</td>\n",
       "      <td>...</td>\n",
       "      <td>...</td>\n",
       "      <td>...</td>\n",
       "    </tr>\n",
       "    <tr>\n",
       "      <th>1315</th>\n",
       "      <td>88</td>\n",
       "      <td>10</td>\n",
       "      <td>-10</td>\n",
       "      <td>2</td>\n",
       "      <td>39</td>\n",
       "      <td>-21</td>\n",
       "      <td>-24</td>\n",
       "      <td>5</td>\n",
       "    </tr>\n",
       "    <tr>\n",
       "      <th>1316</th>\n",
       "      <td>88</td>\n",
       "      <td>11</td>\n",
       "      <td>-11</td>\n",
       "      <td>2</td>\n",
       "      <td>38</td>\n",
       "      <td>-24</td>\n",
       "      <td>-22</td>\n",
       "      <td>6</td>\n",
       "    </tr>\n",
       "    <tr>\n",
       "      <th>1317</th>\n",
       "      <td>88</td>\n",
       "      <td>12</td>\n",
       "      <td>-12</td>\n",
       "      <td>3</td>\n",
       "      <td>23</td>\n",
       "      <td>-24</td>\n",
       "      <td>-24</td>\n",
       "      <td>5</td>\n",
       "    </tr>\n",
       "    <tr>\n",
       "      <th>1318</th>\n",
       "      <td>88</td>\n",
       "      <td>13</td>\n",
       "      <td>-13</td>\n",
       "      <td>4</td>\n",
       "      <td>26</td>\n",
       "      <td>-29</td>\n",
       "      <td>-27</td>\n",
       "      <td>5</td>\n",
       "    </tr>\n",
       "    <tr>\n",
       "      <th>1319</th>\n",
       "      <td>88</td>\n",
       "      <td>14</td>\n",
       "      <td>-13</td>\n",
       "      <td>2</td>\n",
       "      <td>15</td>\n",
       "      <td>-25</td>\n",
       "      <td>-25</td>\n",
       "      <td>6</td>\n",
       "    </tr>\n",
       "  </tbody>\n",
       "</table>\n",
       "<p>1320 rows × 8 columns</p>\n",
       "</div>"
      ],
      "text/plain": [
       "      id  time  F_x  F_y  F_z  T_x  T_y  T_z\n",
       "0      1     0   -1   -1   63   -3   -1    0\n",
       "1      1     1    0    0   62   -3   -1    0\n",
       "2      1     2   -1   -1   61   -3    0    0\n",
       "3      1     3   -1   -1   63   -2   -1    0\n",
       "4      1     4   -1   -1   63   -3   -1    0\n",
       "...   ..   ...  ...  ...  ...  ...  ...  ...\n",
       "1315  88    10  -10    2   39  -21  -24    5\n",
       "1316  88    11  -11    2   38  -24  -22    6\n",
       "1317  88    12  -12    3   23  -24  -24    5\n",
       "1318  88    13  -13    4   26  -29  -27    5\n",
       "1319  88    14  -13    2   15  -25  -25    6\n",
       "\n",
       "[1320 rows x 8 columns]"
      ]
     },
     "execution_count": 3,
     "metadata": {},
     "output_type": "execute_result"
    }
   ],
   "source": [
    "# 测试线性回归算子\n",
    "timeseries"
   ]
  },
  {
   "cell_type": "code",
   "execution_count": 34,
   "metadata": {},
   "outputs": [
    {
     "data": {
      "text/html": [
       "<div>\n",
       "<style scoped>\n",
       "    .dataframe tbody tr th:only-of-type {\n",
       "        vertical-align: middle;\n",
       "    }\n",
       "\n",
       "    .dataframe tbody tr th {\n",
       "        vertical-align: top;\n",
       "    }\n",
       "\n",
       "    .dataframe thead th {\n",
       "        text-align: right;\n",
       "    }\n",
       "</style>\n",
       "<table border=\"1\" class=\"dataframe\">\n",
       "  <thead>\n",
       "    <tr style=\"text-align: right;\">\n",
       "      <th></th>\n",
       "      <th>id</th>\n",
       "      <th>time</th>\n",
       "      <th>F_x</th>\n",
       "      <th>F_y</th>\n",
       "      <th>F_z</th>\n",
       "      <th>T_x</th>\n",
       "      <th>T_y</th>\n",
       "      <th>T_z</th>\n",
       "      <th>fake_index</th>\n",
       "    </tr>\n",
       "  </thead>\n",
       "  <tbody>\n",
       "    <tr>\n",
       "      <th>0</th>\n",
       "      <td>1</td>\n",
       "      <td>0</td>\n",
       "      <td>-1</td>\n",
       "      <td>-1</td>\n",
       "      <td>63</td>\n",
       "      <td>-3</td>\n",
       "      <td>-1</td>\n",
       "      <td>0</td>\n",
       "      <td>0</td>\n",
       "    </tr>\n",
       "    <tr>\n",
       "      <th>1</th>\n",
       "      <td>1</td>\n",
       "      <td>1</td>\n",
       "      <td>0</td>\n",
       "      <td>0</td>\n",
       "      <td>62</td>\n",
       "      <td>-3</td>\n",
       "      <td>-1</td>\n",
       "      <td>0</td>\n",
       "      <td>1</td>\n",
       "    </tr>\n",
       "    <tr>\n",
       "      <th>2</th>\n",
       "      <td>1</td>\n",
       "      <td>2</td>\n",
       "      <td>-1</td>\n",
       "      <td>-1</td>\n",
       "      <td>61</td>\n",
       "      <td>-3</td>\n",
       "      <td>0</td>\n",
       "      <td>0</td>\n",
       "      <td>2</td>\n",
       "    </tr>\n",
       "    <tr>\n",
       "      <th>3</th>\n",
       "      <td>1</td>\n",
       "      <td>3</td>\n",
       "      <td>-1</td>\n",
       "      <td>-1</td>\n",
       "      <td>63</td>\n",
       "      <td>-2</td>\n",
       "      <td>-1</td>\n",
       "      <td>0</td>\n",
       "      <td>3</td>\n",
       "    </tr>\n",
       "    <tr>\n",
       "      <th>4</th>\n",
       "      <td>1</td>\n",
       "      <td>4</td>\n",
       "      <td>-1</td>\n",
       "      <td>-1</td>\n",
       "      <td>63</td>\n",
       "      <td>-3</td>\n",
       "      <td>-1</td>\n",
       "      <td>0</td>\n",
       "      <td>4</td>\n",
       "    </tr>\n",
       "    <tr>\n",
       "      <th>...</th>\n",
       "      <td>...</td>\n",
       "      <td>...</td>\n",
       "      <td>...</td>\n",
       "      <td>...</td>\n",
       "      <td>...</td>\n",
       "      <td>...</td>\n",
       "      <td>...</td>\n",
       "      <td>...</td>\n",
       "      <td>...</td>\n",
       "    </tr>\n",
       "    <tr>\n",
       "      <th>1315</th>\n",
       "      <td>88</td>\n",
       "      <td>10</td>\n",
       "      <td>-10</td>\n",
       "      <td>2</td>\n",
       "      <td>39</td>\n",
       "      <td>-21</td>\n",
       "      <td>-24</td>\n",
       "      <td>5</td>\n",
       "      <td>1315</td>\n",
       "    </tr>\n",
       "    <tr>\n",
       "      <th>1316</th>\n",
       "      <td>88</td>\n",
       "      <td>11</td>\n",
       "      <td>-11</td>\n",
       "      <td>2</td>\n",
       "      <td>38</td>\n",
       "      <td>-24</td>\n",
       "      <td>-22</td>\n",
       "      <td>6</td>\n",
       "      <td>1316</td>\n",
       "    </tr>\n",
       "    <tr>\n",
       "      <th>1317</th>\n",
       "      <td>88</td>\n",
       "      <td>12</td>\n",
       "      <td>-12</td>\n",
       "      <td>3</td>\n",
       "      <td>23</td>\n",
       "      <td>-24</td>\n",
       "      <td>-24</td>\n",
       "      <td>5</td>\n",
       "      <td>1317</td>\n",
       "    </tr>\n",
       "    <tr>\n",
       "      <th>1318</th>\n",
       "      <td>88</td>\n",
       "      <td>13</td>\n",
       "      <td>-13</td>\n",
       "      <td>4</td>\n",
       "      <td>26</td>\n",
       "      <td>-29</td>\n",
       "      <td>-27</td>\n",
       "      <td>5</td>\n",
       "      <td>1318</td>\n",
       "    </tr>\n",
       "    <tr>\n",
       "      <th>1319</th>\n",
       "      <td>88</td>\n",
       "      <td>14</td>\n",
       "      <td>-13</td>\n",
       "      <td>2</td>\n",
       "      <td>15</td>\n",
       "      <td>-25</td>\n",
       "      <td>-25</td>\n",
       "      <td>6</td>\n",
       "      <td>1319</td>\n",
       "    </tr>\n",
       "  </tbody>\n",
       "</table>\n",
       "<p>1320 rows × 9 columns</p>\n",
       "</div>"
      ],
      "text/plain": [
       "      id  time  F_x  F_y  F_z  T_x  T_y  T_z  fake_index\n",
       "0      1     0   -1   -1   63   -3   -1    0           0\n",
       "1      1     1    0    0   62   -3   -1    0           1\n",
       "2      1     2   -1   -1   61   -3    0    0           2\n",
       "3      1     3   -1   -1   63   -2   -1    0           3\n",
       "4      1     4   -1   -1   63   -3   -1    0           4\n",
       "...   ..   ...  ...  ...  ...  ...  ...  ...         ...\n",
       "1315  88    10  -10    2   39  -21  -24    5        1315\n",
       "1316  88    11  -11    2   38  -24  -22    6        1316\n",
       "1317  88    12  -12    3   23  -24  -24    5        1317\n",
       "1318  88    13  -13    4   26  -29  -27    5        1318\n",
       "1319  88    14  -13    2   15  -25  -25    6        1319\n",
       "\n",
       "[1320 rows x 9 columns]"
      ]
     },
     "execution_count": 34,
     "metadata": {},
     "output_type": "execute_result"
    }
   ],
   "source": [
    "x = timeseries['F_z']\n",
    "t  =timeseries.copy()\n",
    "t['fake_index'] = t.index\n",
    "t"
   ]
  },
  {
   "cell_type": "code",
   "execution_count": 33,
   "metadata": {},
   "outputs": [
    {
     "name": "stdout",
     "output_type": "stream",
     "text": [
      "                            OLS Regression Results                            \n",
      "==============================================================================\n",
      "Dep. Variable:                    F_z   R-squared:                       0.137\n",
      "Model:                            OLS   Adj. R-squared:                  0.136\n",
      "Method:                 Least Squares   F-statistic:                     209.1\n",
      "Date:                Sat, 28 Nov 2020   Prob (F-statistic):           4.25e-44\n",
      "Time:                        17:16:09   Log-Likelihood:                -9495.7\n",
      "No. Observations:                1320   AIC:                         1.900e+04\n",
      "Df Residuals:                    1318   BIC:                         1.901e+04\n",
      "Df Model:                           1                                         \n",
      "Covariance Type:            nonrobust                                         \n",
      "==============================================================================\n",
      "                 coef    std err          t      P>|t|      [0.025      0.975]\n",
      "------------------------------------------------------------------------------\n",
      "Intercept     93.8123     17.733      5.290      0.000      59.024     128.601\n",
      "fake_index    -0.3367      0.023    -14.460      0.000      -0.382      -0.291\n",
      "==============================================================================\n",
      "Omnibus:                      540.248   Durbin-Watson:                   0.339\n",
      "Prob(Omnibus):                  0.000   Jarque-Bera (JB):             1891.896\n",
      "Skew:                          -2.053   Prob(JB):                         0.00\n",
      "Kurtosis:                       7.189   Cond. No.                     1.52e+03\n",
      "==============================================================================\n",
      "\n",
      "Warnings:\n",
      "[1] Standard Errors assume that the covariance matrix of the errors is correctly specified.\n",
      "[2] The condition number is large, 1.52e+03. This might indicate that there are\n",
      "strong multicollinearity or other numerical problems.\n",
      "<class 'pandas.core.series.Series'>\n",
      "NormaltestResult(statistic=540.2483785609724, pvalue=4.859092503546147e-118)\n"
     ]
    },
    {
     "name": "stderr",
     "output_type": "stream",
     "text": [
      "/Users/yaosting/anaconda3/lib/python3.7/site-packages/matplotlib/backends/backend_agg.py:211: RuntimeWarning: Glyph 8722 missing from current font.\n",
      "  font.set_text(s, 0.0, flags=flags)\n",
      "/Users/yaosting/anaconda3/lib/python3.7/site-packages/matplotlib/backends/backend_agg.py:180: RuntimeWarning: Glyph 8722 missing from current font.\n",
      "  font.set_text(s, 0, flags=flags)\n"
     ]
    },
    {
     "data": {
      "image/png": "[encoded data removed]",
      "text/plain": [
       "<Figure size 640x320 with 2 Axes>"
      ]
     },
     "metadata": {},
     "output_type": "display_data"
    }
   ],
   "source": [
    "from statsmodels.formula.api import ols \n",
    "import matplotlib.pyplot as plt  #最常用的绘图库\n",
    "from scipy import stats          \n",
    "\n",
    "\n",
    "beef_model = ols(\"F_z ~ fake_index\", data=t).fit() \n",
    "print(beef_model.summary())\n",
    "result = beef_model\n",
    "\n",
    "resid = result.resid  # 输出残差\n",
    "print(type(resid))    # <class 'pandas.core.series.Series'>\n",
    "resid\n",
    "print(stats.normaltest(result.resid.values)) #对残差进行正态分布检验，p<阀值，拒绝原假设，则是正态分布\n",
    "\n",
    "figure = plt.figure(num=\"画布1\",figsize=(8,4),dpi=80,facecolor=\"gray\",edgecolor=\"blue\",frameon=True)\n",
    "axes1=figure.add_subplot(2,2,1)\n",
    "plt.title(\"残差图\")\n",
    "axes1.plot(result.resid) #看看残差图\n",
    "\n",
    "axes2=figure.add_subplot(2,2,2)\n",
    "plt.title('分布/拟合图')\n",
    "plt.xlabel('fake_index')\n",
    "plt.ylabel('F_z')\n",
    "axes2.plot(t[\"fake_index\"],t[\"F_z\"],'bo',t[\"fake_index\"],result.params[0]*t[\"fake_index\"],'r-')\n",
    "plt.legend([\"F_z\",\"F_z_fake\"],loc=\"best\", frameon=False, ncol=2)\n",
    "plt.show()\n"
   ]
  },
  {
   "cell_type": "code",
   "execution_count": 53,
   "metadata": {},
   "outputs": [
    {
     "data": {
      "text/plain": [
       "[('attr_\"slope\"', -0.33665917194939543),\n",
       " ('attr_\"intercept\"', 93.81232996123234),\n",
       " ('attr_\"rvalue\"', -0.37003172708033777)]"
      ]
     },
     "execution_count": 53,
     "metadata": {},
     "output_type": "execute_result"
    }
   ],
   "source": [
    "# 本身就是要循环一个个attr的字典来获取属性值. \n",
    "param = [{'attr': 'slope'},{'attr': 'intercept'}, {'attr': 'rvalue'}]\n",
    "ae=tsfresh.feature_extraction.feature_calculators.linear_trend(x, param)\n",
    "ae"
   ]
  },
  {
   "cell_type": "code",
   "execution_count": 57,
   "metadata": {},
   "outputs": [
    {
     "name": "stdout",
     "output_type": "stream",
     "text": [
      "('attr_\"slope\"__chunk_len_1__f_agg_\"mean\"', -0.33665917194939543)\n",
      "('attr_\"intercept\"__chunk_len_1__f_agg_\"mean\"', 93.81232996123234)\n"
     ]
    }
   ],
   "source": [
    "# 先将数据分组,然后agg计算组内的特征值,然后进行最小二乘计算,当chunk_size=1时,就和linear_trend一致.\n",
    "param = [{\"attr\": 'slope', \"chunk_len\": 1, \"f_agg\": 'mean'},\\\n",
    "        {\"attr\": 'intercept', \"chunk_len\": 1, \"f_agg\": 'mean'}]\n",
    "ae=tsfresh.feature_extraction.feature_calculators.agg_linear_trend(x, param)\n",
    "for value in ae:\n",
    "    print(value)"
   ]
  },
  {
   "cell_type": "code",
   "execution_count": 73,
   "metadata": {},
   "outputs": [],
   "source": [
    "# # linear_trend_timewise  要求的index  也就是x必须是秒级别的datatime,  然后汇总到计算小时单位进行一个回归拟合.\n",
    "# param = [{'attr': 'slope'},{'attr': 'intercept'}, {'attr': 'rvalue'}]\n",
    "# ae=tsfresh.feature_extraction.feature_calculators.linear_trend_timewise(x, param)"
   ]
  },
  {
   "cell_type": "code",
   "execution_count": 59,
   "metadata": {},
   "outputs": [
    {
     "data": {
      "text/plain": [
       "1603"
      ]
     },
     "execution_count": 59,
     "metadata": {},
     "output_type": "execute_result"
    }
   ],
   "source": [
    "ae=tsfresh.feature_extraction.feature_calculators.change_quantiles(x,ql=0, qh=1, isabs=False, f_agg='max')\n",
    "ae"
   ]
  },
  {
   "cell_type": "code",
   "execution_count": 72,
   "metadata": {},
   "outputs": [
    {
     "data": {
      "text/plain": [
       "1603"
      ]
     },
     "execution_count": 72,
     "metadata": {},
     "output_type": "execute_result"
    }
   ],
   "source": [
    "import numpy as np\n",
    "np.diff(x).max()"
   ]
  },
  {
   "cell_type": "code",
   "execution_count": 74,
   "metadata": {},
   "outputs": [
    {
     "data": {
      "text/plain": [
       "id       58740\n",
       "time      9240\n",
       "F_x      -3096\n",
       "F_y      11766\n",
       "F_z    -169243\n",
       "T_x     -51517\n",
       "T_y      -5963\n",
       "T_z       1146\n",
       "dtype: int64"
      ]
     },
     "execution_count": 74,
     "metadata": {},
     "output_type": "execute_result"
    }
   ],
   "source": [
    "ae=tsfresh.feature_extraction.feature_calculators.sum_values(timeseries)\n",
    "ae"
   ]
  },
  {
   "cell_type": "code",
   "execution_count": 76,
   "metadata": {},
   "outputs": [
    {
     "data": {
      "text/plain": [
       "5"
      ]
     },
     "execution_count": 76,
     "metadata": {},
     "output_type": "execute_result"
    }
   ],
   "source": [
    "ae=tsfresh.feature_extraction.feature_calculators.sum_of_reoccurring_values([2, 2, 1,3,3]) \n",
    "ae"
   ]
  },
  {
   "cell_type": "code",
   "execution_count": 87,
   "metadata": {},
   "outputs": [
    {
     "data": {
      "text/plain": [
       "173"
      ]
     },
     "execution_count": 87,
     "metadata": {},
     "output_type": "execute_result"
    }
   ],
   "source": [
    "param = [{'q':50}]\n",
    "ae=tsfresh.feature_extraction.feature_calculators.number_cwt_peaks(x, 2)\n",
    "ae"
   ]
  },
  {
   "cell_type": "code",
   "execution_count": 90,
   "metadata": {},
   "outputs": [
    {
     "data": {
      "text/plain": [
       "-606.8"
      ]
     },
     "execution_count": 90,
     "metadata": {},
     "output_type": "execute_result"
    }
   ],
   "source": [
    "ae=tsfresh.feature_extraction.feature_calculators.quantile(x, 0.1)\n",
    "ae"
   ]
  },
  {
   "cell_type": "code",
   "execution_count": 94,
   "metadata": {},
   "outputs": [
    {
     "name": "stdout",
     "output_type": "stream",
     "text": [
      "154\n"
     ]
    },
    {
     "data": {
      "text/plain": [
       "7"
      ]
     },
     "execution_count": 94,
     "metadata": {},
     "output_type": "execute_result"
    }
   ],
   "source": [
    "ae=tsfresh.feature_extraction.feature_calculators.value_count(timeseries, 10)\n",
    "print(ae)\n",
    "ae=tsfresh.feature_extraction.feature_calculators.value_count(x, 10)\n",
    "ae"
   ]
  },
  {
   "cell_type": "code",
   "execution_count": 97,
   "metadata": {},
   "outputs": [
    {
     "data": {
      "text/plain": [
       "17"
      ]
     },
     "execution_count": 97,
     "metadata": {},
     "output_type": "execute_result"
    }
   ],
   "source": [
    "ae=tsfresh.feature_extraction.feature_calculators.range_count(x, 10, 15)\n",
    "ae"
   ]
  },
  {
   "cell_type": "code",
   "execution_count": 98,
   "metadata": {},
   "outputs": [
    {
     "data": {
      "text/plain": [
       "0.615909090909091"
      ]
     },
     "execution_count": 98,
     "metadata": {},
     "output_type": "execute_result"
    }
   ],
   "source": [
    "ae=tsfresh.feature_extraction.feature_calculators.count_above(x, 10)\n",
    "ae"
   ]
  },
  {
   "cell_type": "code",
   "execution_count": null,
   "metadata": {},
   "outputs": [],
   "source": []
  }
 ],
 "metadata": {
  "kernelspec": {
   "display_name": "Python 3",
   "language": "python",
   "name": "python3"
  },
  "language_info": {
   "codemirror_mode": {
    "name": "ipython",
    "version": 3
   },
   "file_extension": ".py",
   "mimetype": "text/x-python",
   "name": "python",
   "nbconvert_exporter": "python",
   "pygments_lexer": "ipython3",
   "version": "3.7.6"
  }
 },
 "nbformat": 4,
 "nbformat_minor": 4
}
